{
  "nbformat": 4,
  "nbformat_minor": 0,
  "metadata": {
    "colab": {
      "provenance": []
    },
    "kernelspec": {
      "name": "python3",
      "display_name": "Python 3"
    },
    "language_info": {
      "name": "python"
    }
  },
  "cells": [
    {
      "cell_type": "code",
      "execution_count": null,
      "metadata": {
        "id": "5Jl4GtBc4_jU"
      },
      "outputs": [],
      "source": [
        "import os\n",
        "import requests\n",
        "import json\n",
        "from urllib.parse import urlencode\n",
        "import numpy as np\n",
        "import pandas as pd"
      ]
    },
    {
      "cell_type": "code",
      "source": [
        "test_city = \"New York\"\n",
        "loaction_url = 'https://locator-service.api.bbci.co.uk/locations?' + urlencode({\n",
        "    'api_key' : 'AGbFAKx58hyjQScCXIYrxuEwJh2W2cmv',\n",
        "\n",
        "    'stack' : 'aws','locale' : 'en','filter':'international',\n",
        "    'place-types': 'settlement , airport , district','order':'importance',\n",
        "    's' : test_city,'a':'true','format':'json'\n",
        "    })"
      ],
      "metadata": {
        "id": "vFppEVl45437"
      },
      "execution_count": null,
      "outputs": []
    },
    {
      "cell_type": "code",
      "source": [
        "loaction_url"
      ],
      "metadata": {
        "colab": {
          "base_uri": "https://localhost:8080/",
          "height": 52
        },
        "id": "GHlG9vXV7xUT",
        "outputId": "8f2f2a00-a066-4152-934c-032389bb78d2"
      },
      "execution_count": null,
      "outputs": [
        {
          "output_type": "execute_result",
          "data": {
            "text/plain": [
              "'https://locator-service.api.bbci.co.uk/locations?api_key=AGbFAKx58hyjQScCXIYrxuEwJh2W2cmv&stack=aws&locale=en&filter=international&place-types=settlement+%2C+airport+%2C+district&order=importance&s=New+York&a=true&format=json'"
            ],
            "application/vnd.google.colaboratory.intrinsic+json": {
              "type": "string"
            }
          },
          "metadata": {},
          "execution_count": 3
        }
      ]
    },
    {
      "cell_type": "code",
      "source": [
        "result = requests.get(loaction_url).json()"
      ],
      "metadata": {
        "id": "Ale4ej8C71XB"
      },
      "execution_count": null,
      "outputs": []
    },
    {
      "cell_type": "code",
      "source": [
        "result"
      ],
      "metadata": {
        "colab": {
          "base_uri": "https://localhost:8080/"
        },
        "id": "4ds9s3sj77qZ",
        "outputId": "bf34c0b5-fd71-489b-f7cd-2df7d691ccfc"
      },
      "execution_count": null,
      "outputs": [
        {
          "output_type": "execute_result",
          "data": {
            "text/plain": [
              "{'response': {'results': {'results': [{'id': '5128581',\n",
              "     'name': 'New York',\n",
              "     'container': 'United States',\n",
              "     'containerId': 6252001,\n",
              "     'language': 'en',\n",
              "     'timezone': 'America/New_York',\n",
              "     'country': 'US',\n",
              "     'latitude': 40.71427,\n",
              "     'longitude': -74.00597,\n",
              "     'placeType': 'settlement'},\n",
              "    {'id': '2641508',\n",
              "     'name': 'New York',\n",
              "     'container': 'Lincolnshire',\n",
              "     'containerId': 2644486,\n",
              "     'language': 'en',\n",
              "     'timezone': 'Europe/London',\n",
              "     'country': 'GB',\n",
              "     'latitude': 53.07897,\n",
              "     'longitude': -0.14008,\n",
              "     'placeType': 'settlement',\n",
              "     'topicId': 'cr0mejz7n26t'}],\n",
              "   'totalResults': 2}}}"
            ]
          },
          "metadata": {},
          "execution_count": 5
        }
      ]
    },
    {
      "cell_type": "code",
      "source": [
        "result['response']['results']['results'][0]['id']"
      ],
      "metadata": {
        "colab": {
          "base_uri": "https://localhost:8080/",
          "height": 35
        },
        "id": "1O94g3pk8HV-",
        "outputId": "ccee2c79-5a01-494f-96f3-dcefc3639fb6"
      },
      "execution_count": null,
      "outputs": [
        {
          "output_type": "execute_result",
          "data": {
            "text/plain": [
              "'5128581'"
            ],
            "application/vnd.google.colaboratory.intrinsic+json": {
              "type": "string"
            }
          },
          "metadata": {},
          "execution_count": 6
        }
      ]
    },
    {
      "cell_type": "markdown",
      "source": [
        "creating a function to get the output location of any city"
      ],
      "metadata": {
        "id": "vwbwSofu8ceA"
      }
    },
    {
      "cell_type": "code",
      "source": [
        "def getloc(city):\n",
        "  city = city.lower()\n",
        "  loaction_url = 'https://locator-service.api.bbci.co.uk/locations?' + urlencode({\n",
        "    'api_key' : 'AGbFAKx58hyjQScCXIYrxuEwJh2W2cmv',\n",
        "\n",
        "    'stack' : 'aws','locale' : 'en','filter':'international',\n",
        "    'place-types': 'settlement , airport , district','order':'importance',\n",
        "    's' : city,'a':'true','format':'json'\n",
        "    })\n",
        "  result = requests.get(loaction_url).json()\n",
        "  loc_id = result['response']['results']['results'][0]['id']\n",
        "  return loc_id"
      ],
      "metadata": {
        "id": "8xa9qnXj8mYE"
      },
      "execution_count": null,
      "outputs": []
    },
    {
      "cell_type": "code",
      "source": [
        "getloc(\"Toronto\")"
      ],
      "metadata": {
        "colab": {
          "base_uri": "https://localhost:8080/",
          "height": 35
        },
        "id": "Zp7vbAIZ9SaN",
        "outputId": "d3406b02-aec5-4c5b-f137-8e6225f3934c"
      },
      "execution_count": null,
      "outputs": [
        {
          "output_type": "execute_result",
          "data": {
            "text/plain": [
              "'6167865'"
            ],
            "application/vnd.google.colaboratory.intrinsic+json": {
              "type": "string"
            }
          },
          "metadata": {},
          "execution_count": 10
        }
      ]
    }
  ]
}